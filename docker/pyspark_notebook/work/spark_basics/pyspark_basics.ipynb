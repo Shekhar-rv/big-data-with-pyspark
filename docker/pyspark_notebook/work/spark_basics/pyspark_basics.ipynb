{
 "cells": [
  {
   "cell_type": "markdown",
   "id": "79facae5-d147-4b96-9030-4bad1b4d913b",
   "metadata": {},
   "source": [
    "## Spark DataFrame Basics"
   ]
  },
  {
   "cell_type": "code",
   "execution_count": 1,
   "id": "ae3de1d5-6f79-48c0-a2ed-4affe15abd98",
   "metadata": {},
   "outputs": [],
   "source": [
    "from pyspark.sql import SparkSession\n",
    "from pyspark.sql.types import StructField, StringType, IntegerType, StructType"
   ]
  },
  {
   "cell_type": "code",
   "execution_count": 2,
   "id": "da39274d-89a4-476a-987f-3b79076109da",
   "metadata": {},
   "outputs": [],
   "source": [
    "spark = SparkSession.builder.appName(\"Basics\").getOrCreate()"
   ]
  },
  {
   "cell_type": "code",
   "execution_count": 3,
   "id": "97434fc6-102a-499d-856b-0a9785f9c947",
   "metadata": {},
   "outputs": [],
   "source": [
    "df = spark.read.json(\"data/people.json\")"
   ]
  },
  {
   "cell_type": "code",
   "execution_count": 4,
   "id": "28ab5dd8-7d0c-45d5-803e-fb869f200d4c",
   "metadata": {},
   "outputs": [
    {
     "name": "stdout",
     "output_type": "stream",
     "text": [
      "+----+-------+\n",
      "| age|   name|\n",
      "+----+-------+\n",
      "|NULL|Michael|\n",
      "|  30|   Andy|\n",
      "|  19| Justin|\n",
      "+----+-------+\n",
      "\n"
     ]
    }
   ],
   "source": [
    "df.show()"
   ]
  },
  {
   "cell_type": "code",
   "execution_count": 5,
   "id": "046149a6-25ad-4f11-807b-0295e0c83e33",
   "metadata": {},
   "outputs": [
    {
     "name": "stdout",
     "output_type": "stream",
     "text": [
      "root\n",
      " |-- age: long (nullable = true)\n",
      " |-- name: string (nullable = true)\n",
      "\n"
     ]
    }
   ],
   "source": [
    "# Shows the schema of the df\n",
    "df.printSchema()"
   ]
  },
  {
   "cell_type": "code",
   "execution_count": 6,
   "id": "05b6f9d0-f63b-4072-a12c-388b7e3b06d4",
   "metadata": {},
   "outputs": [
    {
     "data": {
      "text/plain": [
       "['age', 'name']"
      ]
     },
     "execution_count": 6,
     "metadata": {},
     "output_type": "execute_result"
    }
   ],
   "source": [
    "# Shows column names, we don't need to call it as it is a attribute.\n",
    "df.columns"
   ]
  },
  {
   "cell_type": "code",
   "execution_count": 7,
   "id": "41970d63-fe15-4fa4-84bf-e6afc3b51b8a",
   "metadata": {},
   "outputs": [
    {
     "name": "stdout",
     "output_type": "stream",
     "text": [
      "+-------+------------------+-------+\n",
      "|summary|               age|   name|\n",
      "+-------+------------------+-------+\n",
      "|  count|                 2|      3|\n",
      "|   mean|              24.5|   NULL|\n",
      "| stddev|7.7781745930520225|   NULL|\n",
      "|    min|                19|   Andy|\n",
      "|    max|                30|Michael|\n",
      "+-------+------------------+-------+\n",
      "\n"
     ]
    }
   ],
   "source": [
    "df.describe().show()"
   ]
  },
  {
   "cell_type": "markdown",
   "id": "4cfa7bcf-d806-46c3-9e21-222fc008f574",
   "metadata": {},
   "source": [
    "### How to define the schema"
   ]
  },
  {
   "cell_type": "code",
   "execution_count": 8,
   "id": "ebb606ab-6496-4212-a8de-48da5ea5d187",
   "metadata": {},
   "outputs": [],
   "source": [
    "data_schema = [\n",
    "    StructField(\"age\", IntegerType(), True),\n",
    "    StructField(\"name\", StringType(), True)\n",
    "]"
   ]
  },
  {
   "cell_type": "code",
   "execution_count": 9,
   "id": "7a87ac39-dc8c-42ff-b72a-1326a01c3613",
   "metadata": {},
   "outputs": [],
   "source": [
    "final_struc = StructType(fields=data_schema)"
   ]
  },
  {
   "cell_type": "code",
   "execution_count": 10,
   "id": "60a5babe-bd2a-442b-b5f3-6dd7a6f53f11",
   "metadata": {},
   "outputs": [],
   "source": [
    "df = spark.read.json(\"data/people.json\", schema=final_struc)"
   ]
  },
  {
   "cell_type": "code",
   "execution_count": 11,
   "id": "2da18cdd-5d55-44fd-8dba-7bc7fc15d3ac",
   "metadata": {},
   "outputs": [
    {
     "name": "stdout",
     "output_type": "stream",
     "text": [
      "root\n",
      " |-- age: integer (nullable = true)\n",
      " |-- name: string (nullable = true)\n",
      "\n"
     ]
    }
   ],
   "source": [
    "df.printSchema()"
   ]
  },
  {
   "cell_type": "markdown",
   "id": "1bddd18c-e600-4a25-8d63-e246af3c4b45",
   "metadata": {},
   "source": [
    "### Selecting data from df"
   ]
  },
  {
   "cell_type": "code",
   "execution_count": 12,
   "id": "cb3c0ac1-c023-4df2-a691-e8b765327eb2",
   "metadata": {},
   "outputs": [
    {
     "data": {
      "text/plain": [
       "pyspark.sql.column.Column"
      ]
     },
     "execution_count": 12,
     "metadata": {},
     "output_type": "execute_result"
    }
   ],
   "source": [
    "type(df[\"age\"])"
   ]
  },
  {
   "cell_type": "code",
   "execution_count": 13,
   "id": "0905eff1-0b35-4fb6-a951-6c3eee3cb7d4",
   "metadata": {},
   "outputs": [
    {
     "name": "stdout",
     "output_type": "stream",
     "text": [
      "+----+\n",
      "| age|\n",
      "+----+\n",
      "|NULL|\n",
      "|  30|\n",
      "|  19|\n",
      "+----+\n",
      "\n"
     ]
    }
   ],
   "source": [
    "df.select(\"age\").show()"
   ]
  },
  {
   "cell_type": "code",
   "execution_count": 14,
   "id": "f6e464bc-9015-4ae5-938d-726f93d3280c",
   "metadata": {},
   "outputs": [
    {
     "data": {
      "text/plain": [
       "[Row(age=None, name='Michael'), Row(age=30, name='Andy')]"
      ]
     },
     "execution_count": 14,
     "metadata": {},
     "output_type": "execute_result"
    }
   ],
   "source": [
    "# Selecting the first two rows of the DF.\n",
    "df.head(2)"
   ]
  },
  {
   "cell_type": "code",
   "execution_count": 15,
   "id": "74ae8917-ddfc-4db4-9717-da9c09f68a38",
   "metadata": {},
   "outputs": [
    {
     "name": "stdout",
     "output_type": "stream",
     "text": [
      "+----+-------+\n",
      "| age|   name|\n",
      "+----+-------+\n",
      "|NULL|Michael|\n",
      "|  30|   Andy|\n",
      "|  19| Justin|\n",
      "+----+-------+\n",
      "\n"
     ]
    }
   ],
   "source": [
    "# Selecting multiple columns\n",
    "df.select([\"age\", \"name\"]).show()"
   ]
  },
  {
   "cell_type": "code",
   "execution_count": 16,
   "id": "a35b86bb-549c-4c2c-a153-4384795bb405",
   "metadata": {},
   "outputs": [
    {
     "name": "stdout",
     "output_type": "stream",
     "text": [
      "+----+-------+----------+\n",
      "| age|   name|double_age|\n",
      "+----+-------+----------+\n",
      "|NULL|Michael|      NULL|\n",
      "|  30|   Andy|        60|\n",
      "|  19| Justin|        38|\n",
      "+----+-------+----------+\n",
      "\n"
     ]
    }
   ],
   "source": [
    "# Creating a new column\n",
    "df.withColumn(\"double_age\", df[\"age\"]*2).show()"
   ]
  },
  {
   "cell_type": "code",
   "execution_count": 17,
   "id": "eee91cd9-52ec-46bc-89f5-5b9a8200ac54",
   "metadata": {},
   "outputs": [
    {
     "name": "stdout",
     "output_type": "stream",
     "text": [
      "+----------+-------+\n",
      "|my_new_age|   name|\n",
      "+----------+-------+\n",
      "|      NULL|Michael|\n",
      "|        30|   Andy|\n",
      "|        19| Justin|\n",
      "+----------+-------+\n",
      "\n"
     ]
    }
   ],
   "source": [
    "# Rename a column (not inplace)\n",
    "df.withColumnRenamed(\"age\", \"my_new_age\").show()"
   ]
  },
  {
   "cell_type": "markdown",
   "id": "bad96667-025f-403a-8bd8-35df0b464093",
   "metadata": {},
   "source": [
    "## Run SQL queries on spark dataframes"
   ]
  },
  {
   "cell_type": "code",
   "execution_count": 18,
   "id": "557137f4-d0bb-40ab-856d-8dc02d3a302e",
   "metadata": {},
   "outputs": [],
   "source": [
    "# Define a temporay view for spark to query from\n",
    "df.createOrReplaceTempView(\"people\")"
   ]
  },
  {
   "cell_type": "code",
   "execution_count": 19,
   "id": "dfe89f8f-e4c6-42f2-b839-f29585ef94ac",
   "metadata": {},
   "outputs": [
    {
     "name": "stdout",
     "output_type": "stream",
     "text": [
      "+----+-------+\n",
      "| age|   name|\n",
      "+----+-------+\n",
      "|NULL|Michael|\n",
      "|  30|   Andy|\n",
      "|  19| Justin|\n",
      "+----+-------+\n",
      "\n"
     ]
    }
   ],
   "source": [
    "results = spark.sql(\"SELECT * FROM people\")\n",
    "results.show()"
   ]
  },
  {
   "cell_type": "code",
   "execution_count": 20,
   "id": "b122ff48-4412-4fe2-9855-0643c7c2dc1e",
   "metadata": {},
   "outputs": [
    {
     "name": "stdout",
     "output_type": "stream",
     "text": [
      "+---+------+\n",
      "|age|  name|\n",
      "+---+------+\n",
      "| 30|  Andy|\n",
      "| 19|Justin|\n",
      "+---+------+\n",
      "\n"
     ]
    }
   ],
   "source": [
    "new_results = spark.sql(\"SELECT * FROM people WHERE age IS NOT NULL;\")\n",
    "new_results.show()"
   ]
  }
 ],
 "metadata": {
  "kernelspec": {
   "display_name": "Python 3 (ipykernel)",
   "language": "python",
   "name": "python3"
  },
  "language_info": {
   "codemirror_mode": {
    "name": "ipython",
    "version": 3
   },
   "file_extension": ".py",
   "mimetype": "text/x-python",
   "name": "python",
   "nbconvert_exporter": "python",
   "pygments_lexer": "ipython3",
   "version": "3.11.6"
  }
 },
 "nbformat": 4,
 "nbformat_minor": 5
}
