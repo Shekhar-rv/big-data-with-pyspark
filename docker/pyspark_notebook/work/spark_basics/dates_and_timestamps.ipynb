{
 "cells": [
  {
   "cell_type": "markdown",
   "id": "7e8febb2-2f07-48ff-a827-3601f7f2ff29",
   "metadata": {},
   "source": [
    "# Spark DataFrame\n",
    "## Dates and Timestamps"
   ]
  },
  {
   "cell_type": "code",
   "execution_count": 1,
   "id": "f0d5fe1a-2756-490f-aeba-fe5db231b6c5",
   "metadata": {},
   "outputs": [],
   "source": [
    "from pyspark.sql import SparkSession\n",
    "from pyspark.sql.functions import (\n",
    "    dayofmonth, dayofyear, weekofyear, \n",
    "    hour, month, year, format_number, \n",
    "    date_format\n",
    ")"
   ]
  },
  {
   "cell_type": "code",
   "execution_count": 2,
   "id": "5ca283f1-d3c3-4664-850d-aed4f8f4ae6e",
   "metadata": {},
   "outputs": [],
   "source": [
    "spark = SparkSession.builder.appName(\"dates\").getOrCreate()"
   ]
  },
  {
   "cell_type": "code",
   "execution_count": 3,
   "id": "b365586c-925c-4b36-92b6-31ac3742e6dd",
   "metadata": {},
   "outputs": [],
   "source": [
    "df = spark.read.csv(\"../data/appl_stock.csv\", inferSchema=True, header=True)"
   ]
  },
  {
   "cell_type": "code",
   "execution_count": 4,
   "id": "cc523640-e030-4fde-866b-cb9ec2f849be",
   "metadata": {},
   "outputs": [
    {
     "data": {
      "text/plain": [
       "[Row(Date=datetime.date(2010, 1, 4), Open=213.429998, High=214.499996, Low=212.38000099999996, Close=214.009998, Volume=123432400, Adj Close=27.727039)]"
      ]
     },
     "execution_count": 4,
     "metadata": {},
     "output_type": "execute_result"
    }
   ],
   "source": [
    "df.head(1)"
   ]
  },
  {
   "cell_type": "code",
   "execution_count": 5,
   "id": "404a3014-2877-4127-99b5-b0b44dd86f7b",
   "metadata": {},
   "outputs": [
    {
     "name": "stdout",
     "output_type": "stream",
     "text": [
      "+----------+------------------+\n",
      "|      Date|              Open|\n",
      "+----------+------------------+\n",
      "|2010-01-04|        213.429998|\n",
      "|2010-01-05|        214.599998|\n",
      "|2010-01-06|        214.379993|\n",
      "|2010-01-07|            211.75|\n",
      "|2010-01-08|        210.299994|\n",
      "|2010-01-11|212.79999700000002|\n",
      "|2010-01-12|209.18999499999998|\n",
      "|2010-01-13|        207.870005|\n",
      "|2010-01-14|210.11000299999998|\n",
      "|2010-01-15|210.92999500000002|\n",
      "|2010-01-19|        208.330002|\n",
      "|2010-01-20|        214.910006|\n",
      "|2010-01-21|        212.079994|\n",
      "|2010-01-22|206.78000600000001|\n",
      "|2010-01-25|202.51000200000001|\n",
      "|2010-01-26|205.95000100000001|\n",
      "|2010-01-27|        206.849995|\n",
      "|2010-01-28|        204.930004|\n",
      "|2010-01-29|        201.079996|\n",
      "|2010-02-01|192.36999699999998|\n",
      "+----------+------------------+\n",
      "only showing top 20 rows\n",
      "\n"
     ]
    }
   ],
   "source": [
    "df.select([\"Date\", \"Open\"]).show()"
   ]
  },
  {
   "cell_type": "code",
   "execution_count": 6,
   "id": "e08cdac8-dafd-4279-be2d-2f638894dff1",
   "metadata": {},
   "outputs": [
    {
     "name": "stdout",
     "output_type": "stream",
     "text": [
      "+----------------+\n",
      "|dayofmonth(Date)|\n",
      "+----------------+\n",
      "|               4|\n",
      "|               5|\n",
      "|               6|\n",
      "|               7|\n",
      "|               8|\n",
      "|              11|\n",
      "|              12|\n",
      "|              13|\n",
      "|              14|\n",
      "|              15|\n",
      "|              19|\n",
      "|              20|\n",
      "|              21|\n",
      "|              22|\n",
      "|              25|\n",
      "|              26|\n",
      "|              27|\n",
      "|              28|\n",
      "|              29|\n",
      "|               1|\n",
      "+----------------+\n",
      "only showing top 20 rows\n",
      "\n"
     ]
    }
   ],
   "source": [
    "df.select(dayofmonth(df[\"Date\"])).show()"
   ]
  },
  {
   "cell_type": "code",
   "execution_count": 7,
   "id": "1263cdb4-cdd5-422c-9f56-bac245779d9f",
   "metadata": {},
   "outputs": [
    {
     "name": "stdout",
     "output_type": "stream",
     "text": [
      "+-----------+\n",
      "|month(Date)|\n",
      "+-----------+\n",
      "|          1|\n",
      "|          1|\n",
      "|          1|\n",
      "|          1|\n",
      "|          1|\n",
      "|          1|\n",
      "|          1|\n",
      "|          1|\n",
      "|          1|\n",
      "|          1|\n",
      "|          1|\n",
      "|          1|\n",
      "|          1|\n",
      "|          1|\n",
      "|          1|\n",
      "|          1|\n",
      "|          1|\n",
      "|          1|\n",
      "|          1|\n",
      "|          2|\n",
      "+-----------+\n",
      "only showing top 20 rows\n",
      "\n"
     ]
    }
   ],
   "source": [
    "df.select(month(df[\"Date\"])).show()"
   ]
  },
  {
   "cell_type": "markdown",
   "id": "23cd8651-d233-4e0f-b61a-b7e8fb5c24fb",
   "metadata": {},
   "source": [
    "### Calculate the average closing per year"
   ]
  },
  {
   "cell_type": "code",
   "execution_count": 8,
   "id": "8f9ec343-1a2a-4424-8c0e-efc2ca37af03",
   "metadata": {},
   "outputs": [],
   "source": [
    "# df.select(year(df[\"Date\"])).show()\n",
    "new_df = df.withColumn(\"Year\", year(df[\"Date\"]))"
   ]
  },
  {
   "cell_type": "code",
   "execution_count": 9,
   "id": "57d8695e-ac1d-4961-b7a0-806600dc6be4",
   "metadata": {},
   "outputs": [],
   "source": [
    "result = new_df.groupBy(\"Year\").mean().select([\"Year\", \"avg(Close)\"])"
   ]
  },
  {
   "cell_type": "code",
   "execution_count": 10,
   "id": "c27fd244-67b9-4ddd-bcf4-8d47a3bf4f55",
   "metadata": {},
   "outputs": [],
   "source": [
    "new_result = result.withColumnRenamed(\"avg(Close)\", \"Average Closing Price\")"
   ]
  },
  {
   "cell_type": "code",
   "execution_count": 11,
   "id": "c07ac198-99f5-4045-9e5e-8d824642474d",
   "metadata": {},
   "outputs": [
    {
     "name": "stdout",
     "output_type": "stream",
     "text": [
      "+----+----------+\n",
      "|Year|Avg Closed|\n",
      "+----+----------+\n",
      "|2015|    120.04|\n",
      "|2013|    472.63|\n",
      "|2014|    295.40|\n",
      "|2012|    576.05|\n",
      "|2016|    104.60|\n",
      "|2010|    259.84|\n",
      "|2011|    364.00|\n",
      "+----+----------+\n",
      "\n"
     ]
    }
   ],
   "source": [
    "new_result.select([\"Year\", format_number(\"Average Closing Price\", 2).alias(\"Avg Closed\")]).show()"
   ]
  }
 ],
 "metadata": {
  "kernelspec": {
   "display_name": "Python 3 (ipykernel)",
   "language": "python",
   "name": "python3"
  },
  "language_info": {
   "codemirror_mode": {
    "name": "ipython",
    "version": 3
   },
   "file_extension": ".py",
   "mimetype": "text/x-python",
   "name": "python",
   "nbconvert_exporter": "python",
   "pygments_lexer": "ipython3",
   "version": "3.11.6"
  }
 },
 "nbformat": 4,
 "nbformat_minor": 5
}
