{
 "cells": [
  {
   "cell_type": "markdown",
   "id": "1747a450-a72e-443f-9f59-6a495cd3e56d",
   "metadata": {},
   "source": [
    "# Python Exercises"
   ]
  },
  {
   "cell_type": "markdown",
   "id": "8189fde7-590a-4732-9cce-b3f26ba3019d",
   "metadata": {},
   "source": [
    "### What is 7 to the power of 4"
   ]
  },
  {
   "cell_type": "code",
   "execution_count": 1,
   "id": "717b7829-ea78-4025-845b-8a3eec3b6698",
   "metadata": {},
   "outputs": [
    {
     "data": {
      "text/plain": [
       "2401"
      ]
     },
     "execution_count": 1,
     "metadata": {},
     "output_type": "execute_result"
    }
   ],
   "source": [
    "7**4"
   ]
  },
  {
   "cell_type": "markdown",
   "id": "56d8406c-d5f7-47d6-b06d-8dedacef83e3",
   "metadata": {},
   "source": [
    "### Split this string:\n",
    "    s = \"Hi there Sam!\"\n",
    "### into a list."
   ]
  },
  {
   "cell_type": "code",
   "execution_count": 2,
   "id": "a2d2f6bb-29ce-455c-a52e-f365b0537343",
   "metadata": {},
   "outputs": [
    {
     "data": {
      "text/plain": [
       "['Hi', 'there', 'Sam!']"
      ]
     },
     "execution_count": 2,
     "metadata": {},
     "output_type": "execute_result"
    }
   ],
   "source": [
    "s = \"Hi there Sam!\"\n",
    "s.split()"
   ]
  },
  {
   "cell_type": "markdown",
   "id": "8a741552-79bc-4b9d-8d00-1047704cb0ec",
   "metadata": {},
   "source": [
    "### Given the variables:\n",
    "planet = \"Earth\"\n",
    "diameter = 12742\n",
    "### Use .format() to print the following string:\n",
    "The diameter of the Earth is 12742 kilometers."
   ]
  },
  {
   "cell_type": "code",
   "execution_count": 3,
   "id": "0ca579be-6426-44e1-bf46-036d7da1f447",
   "metadata": {},
   "outputs": [
    {
     "name": "stdout",
     "output_type": "stream",
     "text": [
      "The diameter of the Earth is 12742 kilometers.\n"
     ]
    }
   ],
   "source": [
    "planet = \"Earth\"\n",
    "diameter = 12742\n",
    "print(f\"The diameter of the {planet} is {diameter} kilometers.\")"
   ]
  },
  {
   "cell_type": "markdown",
   "id": "f32ea819-39b7-44fd-866d-4ec2fd81efd0",
   "metadata": {},
   "source": [
    "### Given the nested list, use indexing to grab the word \"hello\""
   ]
  },
  {
   "cell_type": "code",
   "execution_count": 4,
   "id": "86e19bd1-c799-45cd-9e1a-b0e1ef32a500",
   "metadata": {},
   "outputs": [],
   "source": [
    "lst = [1, 2, [3, 4], [5, [100, 200,[\"hello\"]], 23, 11], 1, 7]"
   ]
  },
  {
   "cell_type": "code",
   "execution_count": 5,
   "id": "baa02fc7-f0fa-40e6-a92c-44dcf533cb94",
   "metadata": {},
   "outputs": [
    {
     "data": {
      "text/plain": [
       "'hello'"
      ]
     },
     "execution_count": 5,
     "metadata": {},
     "output_type": "execute_result"
    }
   ],
   "source": [
    "lst[3][1][2][0]"
   ]
  },
  {
   "cell_type": "markdown",
   "id": "6dbab180-cd79-4881-bb68-5b200252ac7f",
   "metadata": {},
   "source": [
    "### Given the nested dictionary, grab the word \"hello\""
   ]
  },
  {
   "cell_type": "code",
   "execution_count": 6,
   "id": "1cab31ff-7f40-400f-b1a9-ffba92442c90",
   "metadata": {},
   "outputs": [],
   "source": [
    "d = {\"k1\" : [1, 2, 3, {\"tricky\" : [\"oh\", \"man\", \"inception\", {\"target\" : [1, 2, 3, \"hello\"]}]}]}"
   ]
  },
  {
   "cell_type": "code",
   "execution_count": 7,
   "id": "8221072f-ae6d-4c79-9e1a-07753c79a332",
   "metadata": {},
   "outputs": [
    {
     "data": {
      "text/plain": [
       "'hello'"
      ]
     },
     "execution_count": 7,
     "metadata": {},
     "output_type": "execute_result"
    }
   ],
   "source": [
    "d[\"k1\"][3][\"tricky\"][3][\"target\"][3]"
   ]
  },
  {
   "cell_type": "markdown",
   "id": "62b9d3e9-b4ae-4c01-977b-9efd558c2876",
   "metadata": {},
   "source": [
    "### Create a function that grabs the email website domain from a string in the form:\n",
    "user@domain.com\n",
    "### So for example, passing \"user@domain.com\" would return: domain.com"
   ]
  },
  {
   "cell_type": "code",
   "execution_count": 8,
   "id": "5899bd9c-c2ff-4e9f-ba5f-38ee2d0b1766",
   "metadata": {},
   "outputs": [],
   "source": [
    "def domain_get(email_id: str):\n",
    "    email_str_list = email_id.split(\"@\")\n",
    "    return email_str_list[-1]"
   ]
  },
  {
   "cell_type": "code",
   "execution_count": 9,
   "id": "64b265f4-0e12-4347-a784-d4513b51810e",
   "metadata": {},
   "outputs": [
    {
     "data": {
      "text/plain": [
       "'domain.com'"
      ]
     },
     "execution_count": 9,
     "metadata": {},
     "output_type": "execute_result"
    }
   ],
   "source": [
    "domain_get(email_id=\"user@domain.com\")"
   ]
  },
  {
   "cell_type": "markdown",
   "id": "4eb200fc-fff7-4185-9371-9ec68e87fa20",
   "metadata": {},
   "source": [
    "### Create a basic function that returns True if the word \"dog\" is contained in the input string, no need to worry about all edge cases but do account for capitalization."
   ]
  },
  {
   "cell_type": "code",
   "execution_count": 10,
   "id": "669cccd3-c594-4853-a1ec-cd050718a513",
   "metadata": {},
   "outputs": [],
   "source": [
    "def find_dog(sentence: str):\n",
    "    sentence_lower = sentence.lower().split()\n",
    "    return \"dog\" in sentence_lower"
   ]
  },
  {
   "cell_type": "code",
   "execution_count": 11,
   "id": "7df0e55f-a670-4dbb-ba1b-d07bfb36b46d",
   "metadata": {},
   "outputs": [
    {
     "data": {
      "text/plain": [
       "True"
      ]
     },
     "execution_count": 11,
     "metadata": {},
     "output_type": "execute_result"
    }
   ],
   "source": [
    "find_dog(sentence=\"This is my Dog\")"
   ]
  },
  {
   "cell_type": "markdown",
   "id": "5ba9d687-5c2b-45b3-b0a3-f917a32b104d",
   "metadata": {},
   "source": [
    "### Create a function that counts the number of times the word \"dog\" occurs in a string. Again ignore edge cases."
   ]
  },
  {
   "cell_type": "code",
   "execution_count": 12,
   "id": "a5e3c2ca-201d-4246-a4d7-eda5aca128f3",
   "metadata": {},
   "outputs": [],
   "source": [
    "def count_dog(sentence: str):\n",
    "    count = 0\n",
    "    for word in sentence.lower().split():\n",
    "        if \"dog\" in word:\n",
    "            count += 1\n",
    "    return count"
   ]
  },
  {
   "cell_type": "code",
   "execution_count": 13,
   "id": "48ebc166-f637-4c52-9b68-7fe6955b76c9",
   "metadata": {},
   "outputs": [
    {
     "data": {
      "text/plain": [
       "3"
      ]
     },
     "execution_count": 13,
     "metadata": {},
     "output_type": "execute_result"
    }
   ],
   "source": [
    "count_dog(sentence=\"My dog is faster than my neighbour's dog, I think it might be the fasted dog on the block!\")"
   ]
  },
  {
   "cell_type": "markdown",
   "id": "23ff7cba-8371-4bb4-b890-3dea697b6b00",
   "metadata": {},
   "source": [
    "## Final problem\n",
    "### You are driving a little too fast, and a police officer stops you. Write a function to return one of the 3 possible outcomes: \"No ticket\", \"Small ticket\" and \"Big ticket\". If your speed is 60 or less then \"No ticket\". If the speed is between 61 and 80 inclusive then \"Small ticket\". If the speed is 81 or more then \"Big ticket\". Unless its your birthday (encoded as a boolean value in the parameters of the fucntion), if true your speed can be higher in all cases."
   ]
  },
  {
   "cell_type": "code",
   "execution_count": 14,
   "id": "35164943-7c81-4f0e-ab5a-3d78cb209356",
   "metadata": {},
   "outputs": [],
   "source": [
    "def caught_speeding(speed:int, is_birthday:bool):\n",
    "    if is_birthday:\n",
    "        speeding = speed - 5\n",
    "    else:\n",
    "        speeding = speed\n",
    "    if speeding <= 60:\n",
    "        return \"No ticket\"\n",
    "    elif 61 <= speeding <= 80:\n",
    "        return \"Small ticket\"\n",
    "    elif speeding >= 81:\n",
    "        return \"Big ticket\""
   ]
  },
  {
   "cell_type": "code",
   "execution_count": 15,
   "id": "8f278b83-85b2-490c-b8d6-674f28f7356d",
   "metadata": {},
   "outputs": [
    {
     "data": {
      "text/plain": [
       "'Big ticket'"
      ]
     },
     "execution_count": 15,
     "metadata": {},
     "output_type": "execute_result"
    }
   ],
   "source": [
    "caught_speeding(speed=81, is_birthday=False)"
   ]
  }
 ],
 "metadata": {
  "kernelspec": {
   "display_name": "Python 3 (ipykernel)",
   "language": "python",
   "name": "python3"
  },
  "language_info": {
   "codemirror_mode": {
    "name": "ipython",
    "version": 3
   },
   "file_extension": ".py",
   "mimetype": "text/x-python",
   "name": "python",
   "nbconvert_exporter": "python",
   "pygments_lexer": "ipython3",
   "version": "3.11.6"
  }
 },
 "nbformat": 4,
 "nbformat_minor": 5
}
